{
 "metadata": {
  "language_info": {
   "codemirror_mode": {
    "name": "ipython",
    "version": 3
   },
   "file_extension": ".py",
   "mimetype": "text/x-python",
   "name": "python",
   "nbconvert_exporter": "python",
   "pygments_lexer": "ipython3",
   "version": 3
  },
  "orig_nbformat": 2
 },
 "nbformat": 4,
 "nbformat_minor": 2,
 "cells": [
  {
   "cell_type": "code",
   "execution_count": null,
   "metadata": {},
   "outputs": [],
   "source": [
    "from utils.utils import read_data"
   ]
  },
  {
   "source": [
    "Read datasets."
   ],
   "cell_type": "markdown",
   "metadata": {}
  },
  {
   "cell_type": "code",
   "execution_count": null,
   "metadata": {},
   "outputs": [],
   "source": [
    "test_data, sset = read_data()"
   ]
  },
  {
   "cell_type": "code",
   "execution_count": null,
   "metadata": {},
   "outputs": [],
   "source": [
    "print('test_data:', test_data)\n",
    "print('sset:', sset)"
   ]
  },
  {
   "source": [
    "Compute an initial assignment for every equivalence class $x$."
   ],
   "cell_type": "markdown",
   "metadata": {}
  },
  {
   "cell_type": "code",
   "execution_count": null,
   "metadata": {},
   "outputs": [],
   "source": [
    "initial_assignment(test_data, sset)"
   ]
  },
  {
   "source": [
    "Construct the dependency graph $G$.\n",
    "\n",
    "Compute the Earth Mover's Distance between overlapping classes ($u_1$, $u_2$) as edge weights."
   ],
   "cell_type": "markdown",
   "metadata": {}
  },
  {
   "cell_type": "code",
   "execution_count": null,
   "metadata": {},
   "outputs": [],
   "source": [
    "test_graph = build_graph(test_data)\n",
    "print('graph:', test_graph)"
   ]
  },
  {
   "source": [
    "Visit nodes in decreasing order of their $EMD$ values by summing over all corresponding edges.\n",
    "\n",
    "BFS traverse."
   ],
   "cell_type": "markdown",
   "metadata": {}
  },
  {
   "cell_type": "code",
   "execution_count": null,
   "metadata": {},
   "outputs": [],
   "source": []
  },
  {
   "source": [
    "Refine the sense for each equivalence class."
   ],
   "cell_type": "markdown",
   "metadata": {}
  },
  {
   "cell_type": "code",
   "execution_count": null,
   "metadata": {},
   "outputs": [],
   "source": [
    "opt = optimal_senses(test_data, sset)\n",
    "print('optimal_senses:', opt)\n",
    "\n",
    "'''example output\n",
    "senses: {1: '123', 2: '24', 3: '145', 4: '235', 5: '125'}\n",
    "graph: {0: [2], 1: [2, 3], 2: [0, 1], 3: [1]}\n",
    "optimal_senses: {0: [0], 1: [3], 2: [0, 1], 3: [3]}\n",
    "'''\n",
    "\n",
    "print('prob_table:\\n', prob_table(test_data, sset))\n",
    "\n",
    "KLtab = KL_table(test_graph, prob_table(test_data, sset))\n",
    "print('KL_table:', KLtab)\n",
    "\n",
    "# minKL(KLtab, optimal_senses(test_data, test_senses), test_threshold)\n",
    "#\n",
    "# BFS(test_graph, 0)\n",
    "\n",
    "# print('baseline:', baseline(KLtab, opt))\n",
    "\n",
    "sense_assign(test_graph, KLtab, opt)\n",
    "\n",
    "sense_assign(test_graph, KLtab, opt, test_threshold)"
   ]
  },
  {
   "source": [
    "Data repair algorithm."
   ],
   "cell_type": "markdown",
   "metadata": {}
  },
  {
   "cell_type": "code",
   "execution_count": null,
   "metadata": {},
   "outputs": [],
   "source": [
    "repair()"
   ]
  }
 ]
}