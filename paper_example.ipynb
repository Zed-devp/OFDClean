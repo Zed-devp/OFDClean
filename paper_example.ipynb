{
 "cells": [
  {
   "cell_type": "markdown",
   "metadata": {},
   "source": [
    "Read datasets and senses."
   ]
  },
  {
   "cell_type": "code",
   "execution_count": 1,
   "metadata": {},
   "outputs": [
    {
     "output_type": "stream",
     "name": "stdout",
     "text": [
      "data:\n      ID   A   B   C\n0    t1  a1  b1  c3\n1    t2  a1  b1  c6\n2    t3  a1  b2  c1\n3    t4  a1  b2  c2\n4    t5  a1  b2  c3\n5    t6  a1  b2  c4\n6    t7  a2  b2  c2\n7    t8  a2  b2  c4\n8    t9  a2  b2  c4\n9   t10  a2  b3  c5\n10  t11  a2  b3  c3\n11  t12  a2  b3  c3\n\nsense_dict:\n {'1': ['c1', 'c2', 'c3'], '2': ['c2', 'c4'], '3': ['c1', 'c4', 'c5'], '4': ['c2', 'c3', 'c5'], '5': ['c1', 'c2', 'c5'], '6': ['c4', 'c6'], '7': ['c1', 'c4', 'c6', 'c7']}\n"
     ]
    }
   ],
   "source": [
    "from utils.utils import read_data\n",
    "\n",
    "data_path = 'datasets/example.csv'\n",
    "senses_path = 'senses/example.csv'\n",
    "\n",
    "data, sense_dict = read_data(data_path, senses_path)\n",
    "\n",
    "print('data:\\n', data)\n",
    "print('\\nsense_dict:\\n', sense_dict)  # sense->synonym"
   ]
  },
  {
   "cell_type": "markdown",
   "metadata": {},
   "source": [
    "Convert sense table to ssets."
   ]
  },
  {
   "cell_type": "code",
   "execution_count": 2,
   "metadata": {},
   "outputs": [
    {
     "output_type": "stream",
     "name": "stdout",
     "text": [
      "ssets:\n {'c1': ['1', '3', '5', '7'], 'c2': ['1', '2', '4', '5'], 'c3': ['1', '4'], 'c4': ['2', '3', '6', '7'], 'c5': ['3', '4', '5'], 'c6': ['6', '7'], 'c7': ['7']}\n"
     ]
    }
   ],
   "source": [
    "ssets = {}  # synonym->sense\n",
    "for sense, synonym in sense_dict.items():\n",
    "    for value in synonym:\n",
    "        if value not in ssets.keys():\n",
    "            ssets[value] = []\n",
    "        ssets[value].append(sense)\n",
    "\n",
    "print('ssets:\\n', ssets)"
   ]
  },
  {
   "cell_type": "markdown",
   "metadata": {},
   "source": [
    "Initialize attribute columns here."
   ]
  },
  {
   "cell_type": "code",
   "execution_count": 3,
   "metadata": {},
   "outputs": [
    {
     "output_type": "stream",
     "name": "stdout",
     "text": [
      "attrs1: ['a1' 'a2']\nattrs2: ['b1' 'b2' 'b3']\n"
     ]
    }
   ],
   "source": [
    "from utils.utils import get_attribute\n",
    "\n",
    "col_name1 = 'A'\n",
    "attrs1 = get_attribute(data, col_name1)\n",
    "\n",
    "col_name2 = 'B'\n",
    "attrs2 = get_attribute(data, col_name2)\n",
    "\n",
    "right_col_name = 'C'\n",
    "\n",
    "print('attrs1:', attrs1)\n",
    "print('attrs2:', attrs2)"
   ]
  },
  {
   "cell_type": "markdown",
   "metadata": {},
   "source": [
    "Compute an initial assignment for every equivalence class $x$."
   ]
  },
  {
   "cell_type": "code",
   "execution_count": 4,
   "metadata": {},
   "outputs": [
    {
     "output_type": "stream",
     "name": "stdout",
     "text": [
      "right attribute: ['c3', 'c6', 'c1', 'c2', 'c3', 'c4']\ndeviation: {'c6': 0, 'c1': 0, 'c2': 0, 'c4': 0, 'c3': 1}\nk= 5\nsorted_synonyms ['c6', 'c1', 'c2', 'c4', 'c3']\nsorted_senses [['6', '7'], ['1', '3', '5', '7'], ['1', '2', '4', '5'], ['2', '3', '6', '7'], ['1', '4']]\ntopk:\n [['6', '7'], ['1', '3', '5', '7'], ['1', '2', '4', '5'], ['2', '3', '6', '7'], ['1', '4']]\ntopk:\n [['6', '7'], ['1', '3', '5', '7'], ['1', '2', '4', '5'], ['2', '3', '6', '7']]\ntopk:\n [['6', '7'], ['1', '3', '5', '7'], ['1', '2', '4', '5']]\ntopk:\n [['6', '7'], ['1', '3', '5', '7']]\nx:\n     A   C\n0  a1  c3\n1  a1  c6\n2  a1  c1\n3  a1  c2\n4  a1  c3\n5  a1  c4\nright attribute: ['c2', 'c4', 'c4', 'c5', 'c3', 'c3']\ndeviation: {'c2': 0.5, 'c4': 0.5, 'c5': 0.5, 'c3': 0.5}\nk= 4\nsorted_synonyms ['c2', 'c4', 'c5', 'c3']\nsorted_senses [['1', '2', '4', '5'], ['2', '3', '6', '7'], ['3', '4', '5'], ['1', '4']]\ntopk:\n [['1', '2', '4', '5'], ['2', '3', '6', '7'], ['3', '4', '5'], ['1', '4']]\ntopk:\n [['1', '2', '4', '5'], ['2', '3', '6', '7'], ['3', '4', '5']]\ntopk:\n [['1', '2', '4', '5'], ['2', '3', '6', '7']]\nx:\n      A   C\n6   a2  c2\n7   a2  c4\n8   a2  c4\n9   a2  c5\n10  a2  c3\n11  a2  c3\nright attribute: ['c3', 'c6']\ndeviation: {'c3': 0.0, 'c6': 0.0}\nk= 2\nsorted_synonyms ['c3', 'c6']\nsorted_senses [['1', '4'], ['6', '7']]\ntopk:\n [['1', '4'], ['6', '7']]\ntopk:\n [['1', '4']]\nx:\n     B   C\n0  b1  c3\n1  b1  c6\nright attribute: ['c1', 'c2', 'c3', 'c4', 'c2', 'c4', 'c4']\ndeviation: {'c1': 0.5, 'c2': 0.5, 'c3': 0.5, 'c4': 1.5}\nk= 4\nsorted_synonyms ['c1', 'c2', 'c3', 'c4']\nsorted_senses [['1', '3', '5', '7'], ['1', '2', '4', '5'], ['1', '4'], ['2', '3', '6', '7']]\ntopk:\n [['1', '3', '5', '7'], ['1', '2', '4', '5'], ['1', '4'], ['2', '3', '6', '7']]\ntopk:\n [['1', '3', '5', '7'], ['1', '2', '4', '5'], ['1', '4']]\nx:\n     B   C\n2  b2  c1\n3  b2  c2\n4  b2  c3\n5  b2  c4\n6  b2  c2\n7  b2  c4\n8  b2  c4\nright attribute: ['c5', 'c3', 'c3']\ndeviation: {'c5': 0.5, 'c3': 0.5}\nk= 2\nsorted_synonyms ['c5', 'c3']\nsorted_senses [['3', '4', '5'], ['1', '4']]\ntopk:\n [['3', '4', '5'], ['1', '4']]\nx:\n      B   C\n9   b3  c5\n10  b3  c3\n11  b3  c3\n"
     ]
    }
   ],
   "source": [
    "import pandas as pd\n",
    "from algorithms.init_assign import init_assign\n",
    "\n",
    "initial_senses1 = {}\n",
    "initial_senses2 = {}\n",
    "\n",
    "for l in attrs1:\n",
    "    x = data[data[col_name1] == l][[col_name1, right_col_name]]\n",
    "    selected_sense = init_assign(x, ssets, sense_dict)\n",
    "    initial_senses1[l] = selected_sense\n",
    "    print('x:\\n', x)\n",
    "\n",
    "for l in attrs2:\n",
    "    x = data[data[col_name2] == l][[col_name2, right_col_name]]\n",
    "    selected_sense = init_assign(x, ssets, sense_dict)\n",
    "    initial_senses2[l] = selected_sense\n",
    "    print('x:\\n', x)"
   ]
  },
  {
   "cell_type": "code",
   "execution_count": 5,
   "metadata": {},
   "outputs": [
    {
     "output_type": "stream",
     "name": "stdout",
     "text": [
      "initial_senses1:\n {'a1': '7', 'a2': '2'}\ninitial_senses2:\n {'b1': '1', 'b2': '1', 'b3': '4'}\n"
     ]
    }
   ],
   "source": [
    "print('initial_senses1:\\n', initial_senses1)\n",
    "print('initial_senses2:\\n', initial_senses2)"
   ]
  },
  {
   "cell_type": "markdown",
   "metadata": {},
   "source": [
    "Construct the dependency graph $G$.\n",
    "\n",
    "Compute the Earth Mover's Distance between overlapping classes ($u_1$, $u_2$) as edge weights."
   ]
  },
  {
   "cell_type": "code",
   "execution_count": 6,
   "metadata": {},
   "outputs": [
    {
     "output_type": "stream",
     "name": "stdout",
     "text": [
      "attrs: ['a1' 'a2' 'b1' 'b2' 'b3']\nval1: ['c3', 'c6', 'c1', 'c2', 'c3', 'c4']\nval2: ['c3', 'c6']\ndist1: {'c1': 1, 'c6': 1, 'c4': 1, 'c2': 1, 'c3': 2}\ndist2: {'c1': 0, 'c6': 1, 'c4': 0, 'c2': 0, 'c3': 1}\nEMDs: [0, 1, 1, 2, 3, 4]\nemd: 11\nval1: ['c3', 'c6', 'c1', 'c2', 'c3', 'c4']\nval2: ['c1', 'c2', 'c3', 'c4', 'c2', 'c4', 'c4']\ndist1: {'c1': 1, 'c6': 1, 'c4': 1, 'c2': 1, 'c3': 2}\ndist2: {'c1': 1, 'c6': 0, 'c4': 3, 'c2': 2, 'c3': 1}\nEMDs: [0, 0, 1, -1, -2, -1]\nemd: 5\nval1: ['c2', 'c4', 'c4', 'c5', 'c3', 'c3']\nval2: ['c1', 'c2', 'c3', 'c4', 'c2', 'c4', 'c4']\ndist1: {'c1': 0, 'c4': 2, 'c2': 1, 'c3': 2, 'c5': 1}\ndist2: {'c1': 1, 'c4': 3, 'c2': 2, 'c3': 1, 'c5': 0}\nEMDs: [0, -1, -2, -3, -2, -1]\nemd: 9\nval1: ['c2', 'c4', 'c4', 'c5', 'c3', 'c3']\nval2: ['c5', 'c3', 'c3']\ndist1: {'c5': 1, 'c4': 2, 'c2': 1, 'c3': 2}\ndist2: {'c5': 1, 'c4': 0, 'c2': 0, 'c3': 2}\nEMDs: [0, 0, 2, 3, 3]\nemd: 8\n\ndependency graph: {0: [2, 3], 1: [3, 4], 2: [0], 3: [0, 1], 4: [1]}\n\nedge weight: {(0, 2): 11, (2, 0): 11, (0, 3): 5, (3, 0): 5, (1, 3): 9, (3, 1): 9, (1, 4): 8, (4, 1): 8}\n\nvertex weight: {0: 16, 1: 17, 2: 11, 3: 14, 4: 8}\n\nsense assignment:\n {'a1': '7', 'a2': '2', 'b1': '1', 'b2': '1', 'b3': '4'}\n"
     ]
    }
   ],
   "source": [
    "from algorithms.dependency_graph import DependencyGraph\n",
    "\n",
    "G = DependencyGraph(data, initial_senses1, initial_senses2, attrs1, attrs2, sense_dict, right_col_name)\n",
    "G.display()"
   ]
  },
  {
   "cell_type": "markdown",
   "metadata": {},
   "source": [
    "Visit nodes in decreasing order of their $EMD$ values by summing over all corresponding edges.\n",
    "\n",
    "Traverse G with BFS and refine the sense for each equivalence class."
   ]
  },
  {
   "cell_type": "code",
   "execution_count": 7,
   "metadata": {},
   "outputs": [
    {
     "output_type": "stream",
     "name": "stdout",
     "text": [
      "attr1: a2\n",
      "attr2: b2\n",
      "x1:\n",
      "      ID   A   B   C\n",
      "6    t7  a2  b2  c2\n",
      "7    t8  a2  b2  c4\n",
      "8    t9  a2  b2  c4\n",
      "9   t10  a2  b3  c5\n",
      "10  t11  a2  b3  c3\n",
      "11  t12  a2  b3  c3\n",
      "x2:\n",
      "    ID   A   B   C\n",
      "2  t3  a1  b2  c1\n",
      "3  t4  a1  b2  c2\n",
      "4  t5  a1  b2  c3\n",
      "5  t6  a1  b2  c4\n",
      "6  t7  a2  b2  c2\n",
      "7  t8  a2  b2  c4\n",
      "8  t9  a2  b2  c4\n",
      "\n",
      "synonyms: 2\n",
      "vals: ['c2', 'c4', 'c4', 'c5', 'c3', 'c3']\n",
      "outliers: ['c5', 'c4', 'c2', 'c3']\n",
      "\n",
      "synonyms: 1\n",
      "vals: ['c2', 'c4', 'c4', 'c5', 'c3', 'c3']\n",
      "outliers: ['c5', 'c4', 'c2', 'c3']\n",
      "\n",
      "synonyms: 1\n",
      "vals: ['c1', 'c2', 'c3', 'c4', 'c2', 'c4', 'c4']\n",
      "outliers: ['c1', 'c4', 'c2', 'c3']\n",
      "\n",
      "synonyms: 2\n",
      "vals: ['c1', 'c2', 'c3', 'c4', 'c2', 'c4', 'c4']\n",
      "outliers: ['c1', 'c4', 'c2', 'c3']\n",
      "\n",
      "synonyms: 2\n",
      "vals: ['c2', 'c4', 'c4']\n",
      "outliers: ['c4', 'c2']\n",
      "\n",
      "synonyms: 1\n",
      "vals: ['c2', 'c4', 'c4']\n",
      "outliers: ['c4', 'c2']\n",
      "val1: ['c2', 'c4', 'c4', 'c5', 'c3', 'c3']\n",
      "val2: ['c2', 'c4', 'c4', 'c5', 'c3', 'c3']\n",
      "dist1: {'c5': 1, 'c4': 2, 'c2': 1, 'c3': 2}\n",
      "dist2: {'c5': 1, 'c4': 2, 'c2': 1, 'c3': 2}\n",
      "EMDs: [0, 0, 0, 0, 0]\n",
      "emd: 0\n",
      "sense1: 2\n",
      "sense2: 1\n",
      "attr1: a2\n",
      "attr2: b3\n",
      "x1:\n",
      "      ID   A   B   C\n",
      "6    t7  a2  b2  c2\n",
      "7    t8  a2  b2  c4\n",
      "8    t9  a2  b2  c4\n",
      "9   t10  a2  b3  c5\n",
      "10  t11  a2  b3  c3\n",
      "11  t12  a2  b3  c3\n",
      "x2:\n",
      "      ID   A   B   C\n",
      "9   t10  a2  b3  c5\n",
      "10  t11  a2  b3  c3\n",
      "11  t12  a2  b3  c3\n",
      "\n",
      "synonyms: 1\n",
      "vals: ['c2', 'c4', 'c4', 'c5', 'c3', 'c3']\n",
      "outliers: ['c5', 'c4', 'c2', 'c3']\n",
      "\n",
      "synonyms: 4\n",
      "vals: ['c2', 'c4', 'c4', 'c5', 'c3', 'c3']\n",
      "outliers: ['c5', 'c4', 'c2', 'c3']\n",
      "\n",
      "synonyms: 4\n",
      "vals: ['c5', 'c3', 'c3']\n",
      "outliers: ['c5', 'c3']\n",
      "\n",
      "synonyms: 1\n",
      "vals: ['c5', 'c3', 'c3']\n",
      "outliers: ['c5', 'c3']\n",
      "\n",
      "synonyms: 1\n",
      "vals: ['c5', 'c3', 'c3']\n",
      "outliers: ['c5', 'c3']\n",
      "\n",
      "synonyms: 4\n",
      "vals: ['c5', 'c3', 'c3']\n",
      "outliers: ['c5', 'c3']\n",
      "val1: ['c2', 'c4', 'c4', 'c5', 'c3', 'c3']\n",
      "val2: ['c2', 'c4', 'c4', 'c5', 'c3', 'c3']\n",
      "dist1: {'c5': 1, 'c4': 2, 'c2': 1, 'c3': 2}\n",
      "dist2: {'c5': 1, 'c4': 2, 'c2': 1, 'c3': 2}\n",
      "EMDs: [0, 0, 0, 0, 0]\n",
      "emd: 0\n",
      "sense1: 1\n",
      "sense2: 4\n",
      "attr1: b2\n",
      "attr2: a1\n",
      "x1:\n",
      "    ID   A   B   C\n",
      "2  t3  a1  b2  c1\n",
      "3  t4  a1  b2  c2\n",
      "4  t5  a1  b2  c3\n",
      "5  t6  a1  b2  c4\n",
      "6  t7  a2  b2  c2\n",
      "7  t8  a2  b2  c4\n",
      "8  t9  a2  b2  c4\n",
      "x2:\n",
      "    ID   A   B   C\n",
      "0  t1  a1  b1  c3\n",
      "1  t2  a1  b1  c6\n",
      "2  t3  a1  b2  c1\n",
      "3  t4  a1  b2  c2\n",
      "4  t5  a1  b2  c3\n",
      "5  t6  a1  b2  c4\n",
      "\n",
      "synonyms: 1\n",
      "vals: ['c1', 'c2', 'c3', 'c4', 'c2', 'c4', 'c4']\n",
      "outliers: ['c1', 'c4', 'c2', 'c3']\n",
      "\n",
      "synonyms: 7\n",
      "vals: ['c1', 'c2', 'c3', 'c4', 'c2', 'c4', 'c4']\n",
      "outliers: ['c1', 'c4', 'c2', 'c3']\n",
      "\n",
      "synonyms: 7\n",
      "vals: ['c3', 'c6', 'c1', 'c2', 'c3', 'c4']\n",
      "outliers: ['c1', 'c6', 'c4', 'c2', 'c3']\n",
      "\n",
      "synonyms: 1\n",
      "vals: ['c3', 'c6', 'c1', 'c2', 'c3', 'c4']\n",
      "outliers: ['c1', 'c6', 'c4', 'c2', 'c3']\n",
      "\n",
      "synonyms: 1\n",
      "vals: ['c1', 'c2', 'c3', 'c4']\n",
      "outliers: ['c1', 'c4', 'c2', 'c3']\n",
      "\n",
      "synonyms: 7\n",
      "vals: ['c1', 'c2', 'c3', 'c4']\n",
      "outliers: ['c1', 'c4', 'c2', 'c3']\n",
      "val1: ['c1', 'c2', 'c3', 'c4', 'c2', 'c4', 'c4']\n",
      "val2: ['c1', 'c2', 'c3', 'c4', 'c2', 'c4', 'c4']\n",
      "dist1: {'c1': 1, 'c4': 3, 'c2': 2, 'c3': 1}\n",
      "dist2: {'c1': 1, 'c4': 3, 'c2': 2, 'c3': 1}\n",
      "EMDs: [0, 0, 0, 0, 0]\n",
      "emd: 0\n",
      "sense1: 1\n",
      "sense2: 7\n",
      "attr1: a1\n",
      "attr2: b1\n",
      "x1:\n",
      "    ID   A   B   C\n",
      "0  t1  a1  b1  c3\n",
      "1  t2  a1  b1  c6\n",
      "2  t3  a1  b2  c1\n",
      "3  t4  a1  b2  c2\n",
      "4  t5  a1  b2  c3\n",
      "5  t6  a1  b2  c4\n",
      "x2:\n",
      "    ID   A   B   C\n",
      "0  t1  a1  b1  c3\n",
      "1  t2  a1  b1  c6\n",
      "\n",
      "synonyms: 7\n",
      "vals: ['c3', 'c6', 'c1', 'c2', 'c3', 'c4']\n",
      "outliers: ['c1', 'c6', 'c4', 'c2', 'c3']\n",
      "\n",
      "synonyms: 1\n",
      "vals: ['c3', 'c6', 'c1', 'c2', 'c3', 'c4']\n",
      "outliers: ['c1', 'c6', 'c4', 'c2', 'c3']\n",
      "\n",
      "synonyms: 1\n",
      "vals: ['c3', 'c6']\n",
      "outliers: ['c3', 'c6']\n",
      "\n",
      "synonyms: 7\n",
      "vals: ['c3', 'c6']\n",
      "outliers: ['c3', 'c6']\n",
      "\n",
      "synonyms: 7\n",
      "vals: ['c3', 'c6']\n",
      "outliers: ['c3', 'c6']\n",
      "\n",
      "synonyms: 1\n",
      "vals: ['c3', 'c6']\n",
      "outliers: ['c3', 'c6']\n",
      "val1: ['c3', 'c6', 'c1', 'c2', 'c3', 'c4']\n",
      "val2: ['c3', 'c6', 'c1', 'c2', 'c3', 'c4']\n",
      "dist1: {'c1': 1, 'c6': 1, 'c4': 1, 'c2': 1, 'c3': 2}\n",
      "dist2: {'c1': 1, 'c6': 1, 'c4': 1, 'c2': 1, 'c3': 2}\n",
      "EMDs: [0, 0, 0, 0, 0, 0]\n",
      "emd: 0\n",
      "sense1: 7\n",
      "sense2: 1\n",
      "\n",
      "dependency graph: {0: [2, 3], 1: [3, 4], 2: [0], 3: [0, 1], 4: [1]}\n",
      "\n",
      "edge weight: {(0, 2): 0, (2, 0): 0, (0, 3): 0, (3, 0): 0, (1, 3): 0, (3, 1): 0, (1, 4): 0, (4, 1): 0}\n",
      "\n",
      "vertex weight: {0: 16, 1: 17, 2: 11, 3: 14, 4: 8}\n",
      "\n",
      "sense assignment:\n",
      " {'a1': '1', 'a2': '4', 'b1': '1', 'b2': '7', 'b3': '4'}\n"
     ]
    }
   ],
   "source": [
    "G.BFS()\n",
    "G.display()"
   ]
  },
  {
   "cell_type": "markdown",
   "metadata": {},
   "source": [
    "Data repair algorithm."
   ]
  },
  {
   "cell_type": "code",
   "execution_count": 8,
   "metadata": {},
   "outputs": [],
   "source": [
    "# repair()"
   ]
  }
 ],
 "metadata": {
  "kernelspec": {
   "display_name": "Python 3",
   "language": "python",
   "name": "python3"
  },
  "language_info": {
   "codemirror_mode": {
    "name": "ipython",
    "version": 3
   },
   "file_extension": ".py",
   "mimetype": "text/x-python",
   "name": "python",
   "nbconvert_exporter": "python",
   "pygments_lexer": "ipython3",
   "version": "3.7.4-final"
  }
 },
 "nbformat": 4,
 "nbformat_minor": 2
}