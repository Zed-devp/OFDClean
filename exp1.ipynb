{
 "metadata": {
  "language_info": {
   "codemirror_mode": {
    "name": "ipython",
    "version": 3
   },
   "file_extension": ".py",
   "mimetype": "text/x-python",
   "name": "python",
   "nbconvert_exporter": "python",
   "pygments_lexer": "ipython3",
   "version": "3.7.4-final"
  },
  "orig_nbformat": 2,
  "kernelspec": {
   "name": "python3",
   "display_name": "Python 3.7.4 64-bit (conda)",
   "metadata": {
    "interpreter": {
     "hash": "08f4eb54701ef6c64a24c254381284f3906b872647ddae3f2cf62c645ef54681"
    }
   }
  }
 },
 "nbformat": 4,
 "nbformat_minor": 2,
 "cells": [
  {
   "source": [
    "Read clinical datasets."
   ],
   "cell_type": "markdown",
   "metadata": {}
  },
  {
   "cell_type": "code",
   "execution_count": 1,
   "metadata": {},
   "outputs": [
    {
     "output_type": "stream",
     "name": "stderr",
     "text": [
      "d:\\2020fall\\SummerResearch\\OFDClean\\utils\\clinical_preprocessing.py:14: ParserWarning: Falling back to the 'python' engine because the 'c' engine does not support regex separators (separators > 1 char and different from '\\s+' are interpreted as regex); you can avoid this warning by specifying engine='python'.\n",
      "  data = pd.read_csv(data_path, delimiter='::', names=column_names, header=None)\n",
      "data shape:\n",
      " (36304, 29)\n"
     ]
    }
   ],
   "source": [
    "import pandas as pd\n",
    "from utils.clinical_preprocessing import read_data\n",
    "\n",
    "\n",
    "data_paths = ['Germany_trials.csv', 'Japan_trials.csv', 'Italy_trials.csv', 'Canada_trials.csv']#, 'US_trials.csv']\n",
    "data = pd.DataFrame()\n",
    "for path in data_paths:\n",
    "    data = data.append(read_data('datasets/' + path), ignore_index=True)\n",
    "\n",
    "print('data shape:\\n', data.shape)\n"
   ]
  },
  {
   "source": [
    "Generate OFDs."
   ],
   "cell_type": "markdown",
   "metadata": {}
  },
  {
   "cell_type": "code",
   "execution_count": 2,
   "metadata": {},
   "outputs": [
    {
     "output_type": "stream",
     "name": "stdout",
     "text": [
      "o1:\n                         lead_sponsor_agency facility_address_country\n0                                  \"Abbott\"                \"Germany\"\n1                                  \"Abbott\"                \"Germany\"\n2                                  \"Abbott\"                \"Germany\"\n3                                  \"Abbott\"                \"Germany\"\n4                                  \"Abbott\"                \"Germany\"\n...                                     ...                      ...\n36299               \"University of Calgary\"                 \"Canada\"\n36300               \"University of Calgary\"                 \"Canada\"\n36301  \"University Health Network, Toronto\"                 \"Canada\"\n36302      \"University of British Columbia\"                 \"Canada\"\n36303              \"University of Manitoba\"                 \"Canada\"\n\n[36304 rows x 2 columns]\no2:\n                   id facility_address_country\n0      \"NCT00048542\"                \"Germany\"\n1      \"NCT00048542\"                \"Germany\"\n2      \"NCT00048542\"                \"Germany\"\n3      \"NCT00048542\"                \"Germany\"\n4      \"NCT00048542\"                \"Germany\"\n...              ...                      ...\n36299  \"NCT00666887\"                 \"Canada\"\n36300  \"NCT00666887\"                 \"Canada\"\n36301  \"NCT00731380\"                 \"Canada\"\n36302  \"NCT00743548\"                 \"Canada\"\n36303  \"NCT00755898\"                 \"Canada\"\n\n[36304 rows x 2 columns]\n"
     ]
    }
   ],
   "source": [
    "# # [condition, country] --> drug_name\n",
    "# condition = data['condition']\n",
    "# data.reset_index(drop=True)\n",
    "\n",
    "# [sponsor_agency] —> country\n",
    "o1 = data[['lead_sponsor_agency', 'facility_address_country']]\n",
    "\n",
    "# [countryCode] —> country\n",
    "o2 = data[['id', 'facility_address_country']]\n",
    "\n",
    "print('o1:\\n', o1)\n",
    "print('o2:\\n', o2)\n",
    "\n",
    "# drug_name = data['drug_name']\n",
    "\n",
    "# # [condition, time_frame] --> measure\n",
    "# time_frame = data.iloc[:, -3]\n",
    "# measure = data.iloc[:, -4]\n",
    "\n",
    "# # [safety_issue, study_type] --> eligibility_minimum_age\n",
    "# safety_issue = data.iloc[:, -2]\n",
    "# study_type = data.iloc[:, 13]\n",
    "# eligibility_minimum_age = data.iloc[:, 21]"
   ]
  },
  {
   "source": [
    "Inject errors in datasets."
   ],
   "cell_type": "markdown",
   "metadata": {}
  },
  {
   "cell_type": "code",
   "execution_count": 4,
   "metadata": {},
   "outputs": [
    {
     "output_type": "stream",
     "name": "stdout",
     "text": [
      "36304\n"
     ]
    }
   ],
   "source": []
  },
  {
   "source": [
    "Generate senses with different incompleteness rate."
   ],
   "cell_type": "markdown",
   "metadata": {}
  },
  {
   "cell_type": "code",
   "execution_count": null,
   "metadata": {},
   "outputs": [],
   "source": []
  },
  {
   "source": [
    "Find the optimal sense assignments."
   ],
   "cell_type": "markdown",
   "metadata": {}
  },
  {
   "cell_type": "code",
   "execution_count": null,
   "metadata": {},
   "outputs": [],
   "source": []
  },
  {
   "source": [
    "Run sense assignment algorithm."
   ],
   "cell_type": "markdown",
   "metadata": {}
  },
  {
   "cell_type": "code",
   "execution_count": null,
   "metadata": {},
   "outputs": [],
   "source": []
  },
  {
   "source": [
    "Measure accuracy and runtime. Plot graphs."
   ],
   "cell_type": "markdown",
   "metadata": {}
  },
  {
   "cell_type": "code",
   "execution_count": null,
   "metadata": {},
   "outputs": [],
   "source": []
  }
 ]
}